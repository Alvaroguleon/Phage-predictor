{
 "cells": [
  {
   "cell_type": "code",
   "execution_count": 29,
   "metadata": {},
   "outputs": [],
   "source": [
    "import pandas as pd\n",
    "from sklearn.model_selection import train_test_split\n",
    "from sklearn.linear_model import LogisticRegression\n",
    "from sklearn.preprocessing import LabelEncoder\n",
    "from sklearn.metrics import accuracy_score, classification_report, f1_score, matthews_corrcoef, log_loss, mean_squared_error, balanced_accuracy_score\n",
    "from math import sqrt\n",
    "import numpy as np\n",
    "from sklearn.ensemble import RandomForestClassifier\n",
    "from sklearn.feature_selection import SelectFromModel\n",
    "from sklearn.utils.class_weight import compute_class_weight\n",
    "\n",
    "def matthews(y_true, y_pred):\n",
    "    \"\"\"\n",
    "    Calculate the Matthews Correlation Coefficient and other metrics.\n",
    "    \"\"\"\n",
    "    if type(y_true) == pd.Series:\n",
    "        y_true = y_true.values\n",
    "\n",
    "    P = len([x for x in y_true if x == 1])\n",
    "    N = len([x for x in y_true if x == 0])\n",
    "\n",
    "    Tp, Fp = 0, 0\n",
    "    for i in range(len(y_true)):\n",
    "        if y_true[i] == 1 and y_pred[i] == 1: Tp += 1\n",
    "        elif y_true[i] == 0 and y_pred[i] == 1: Fp += 1\n",
    "\n",
    "    Tn = N - Fp\n",
    "    Fn = P - Tp\n",
    "\n",
    "    try:\n",
    "        mcc = (Tp * Tn - Fp * Fn) / sqrt(\n",
    "            (Tn + Fn) * (Tn + Fp) * (Tp + Fn) * (Tp + Fp))\n",
    "    except ZeroDivisionError:\n",
    "        mcc = 0\n",
    "\n",
    "    return (mcc, f\" \\n \\\n",
    "    P: {P:_} \\n \\\n",
    "    Tp: {Tp:_} \\n \\\n",
    "    Fp: {Fp:_} \\n \\\n",
    "    N: {N:_} \\n \\\n",
    "    Tn: {Tn:_} \\n \\\n",
    "    Fn: {Fn:_}\")\n"
   ]
  },
  {
   "cell_type": "code",
   "execution_count": 17,
   "metadata": {},
   "outputs": [
    {
     "data": {
      "text/html": [
       "<div>\n",
       "<style scoped>\n",
       "    .dataframe tbody tr th:only-of-type {\n",
       "        vertical-align: middle;\n",
       "    }\n",
       "\n",
       "    .dataframe tbody tr th {\n",
       "        vertical-align: top;\n",
       "    }\n",
       "\n",
       "    .dataframe thead th {\n",
       "        text-align: right;\n",
       "    }\n",
       "</style>\n",
       "<table border=\"1\" class=\"dataframe\">\n",
       "  <thead>\n",
       "    <tr style=\"text-align: right;\">\n",
       "      <th></th>\n",
       "      <th>staining</th>\n",
       "      <th>Genome Length (bp)</th>\n",
       "      <th>Jumbophage</th>\n",
       "      <th>molGC (%)</th>\n",
       "      <th>Number CDS</th>\n",
       "      <th>Positive Strand (%)</th>\n",
       "      <th>Negative Strand (%)</th>\n",
       "      <th>Coding Capacity (%)</th>\n",
       "      <th>tRNAs</th>\n",
       "      <th>Molecule_DNA</th>\n",
       "      <th>Molecule_RNA</th>\n",
       "      <th>Molecule_ss-DNA</th>\n",
       "      <th>Molecule_ss-RNA</th>\n",
       "    </tr>\n",
       "    <tr>\n",
       "      <th>Accession</th>\n",
       "      <th></th>\n",
       "      <th></th>\n",
       "      <th></th>\n",
       "      <th></th>\n",
       "      <th></th>\n",
       "      <th></th>\n",
       "      <th></th>\n",
       "      <th></th>\n",
       "      <th></th>\n",
       "      <th></th>\n",
       "      <th></th>\n",
       "      <th></th>\n",
       "      <th></th>\n",
       "    </tr>\n",
       "  </thead>\n",
       "  <tbody>\n",
       "    <tr>\n",
       "      <th>MN335248</th>\n",
       "      <td>negative</td>\n",
       "      <td>7045</td>\n",
       "      <td>0</td>\n",
       "      <td>60.298</td>\n",
       "      <td>13</td>\n",
       "      <td>84.615385</td>\n",
       "      <td>15.384615</td>\n",
       "      <td>88.828957</td>\n",
       "      <td>0</td>\n",
       "      <td>0</td>\n",
       "      <td>0</td>\n",
       "      <td>1</td>\n",
       "      <td>0</td>\n",
       "    </tr>\n",
       "    <tr>\n",
       "      <th>MK250029</th>\n",
       "      <td>negative</td>\n",
       "      <td>540217</td>\n",
       "      <td>1</td>\n",
       "      <td>25.796</td>\n",
       "      <td>830</td>\n",
       "      <td>47.108434</td>\n",
       "      <td>52.891566</td>\n",
       "      <td>68.324951</td>\n",
       "      <td>30</td>\n",
       "      <td>1</td>\n",
       "      <td>0</td>\n",
       "      <td>0</td>\n",
       "      <td>0</td>\n",
       "    </tr>\n",
       "    <tr>\n",
       "      <th>MK250028</th>\n",
       "      <td>negative</td>\n",
       "      <td>550053</td>\n",
       "      <td>1</td>\n",
       "      <td>26.012</td>\n",
       "      <td>859</td>\n",
       "      <td>52.270081</td>\n",
       "      <td>47.729919</td>\n",
       "      <td>69.188424</td>\n",
       "      <td>29</td>\n",
       "      <td>1</td>\n",
       "      <td>0</td>\n",
       "      <td>0</td>\n",
       "      <td>0</td>\n",
       "    </tr>\n",
       "    <tr>\n",
       "      <th>MK250027</th>\n",
       "      <td>negative</td>\n",
       "      <td>551627</td>\n",
       "      <td>1</td>\n",
       "      <td>26.022</td>\n",
       "      <td>860</td>\n",
       "      <td>53.023256</td>\n",
       "      <td>46.976744</td>\n",
       "      <td>69.318761</td>\n",
       "      <td>33</td>\n",
       "      <td>1</td>\n",
       "      <td>0</td>\n",
       "      <td>0</td>\n",
       "      <td>0</td>\n",
       "    </tr>\n",
       "    <tr>\n",
       "      <th>MK250026</th>\n",
       "      <td>negative</td>\n",
       "      <td>550702</td>\n",
       "      <td>1</td>\n",
       "      <td>26.020</td>\n",
       "      <td>859</td>\n",
       "      <td>53.201397</td>\n",
       "      <td>46.798603</td>\n",
       "      <td>69.363285</td>\n",
       "      <td>33</td>\n",
       "      <td>1</td>\n",
       "      <td>0</td>\n",
       "      <td>0</td>\n",
       "      <td>0</td>\n",
       "    </tr>\n",
       "  </tbody>\n",
       "</table>\n",
       "</div>"
      ],
      "text/plain": [
       "           staining  Genome Length (bp)  Jumbophage  molGC (%)  Number CDS  \\\n",
       "Accession                                                                    \n",
       "MN335248   negative                7045           0     60.298          13   \n",
       "MK250029   negative              540217           1     25.796         830   \n",
       "MK250028   negative              550053           1     26.012         859   \n",
       "MK250027   negative              551627           1     26.022         860   \n",
       "MK250026   negative              550702           1     26.020         859   \n",
       "\n",
       "           Positive Strand (%)  Negative Strand (%)  Coding Capacity (%)  \\\n",
       "Accession                                                                  \n",
       "MN335248             84.615385            15.384615            88.828957   \n",
       "MK250029             47.108434            52.891566            68.324951   \n",
       "MK250028             52.270081            47.729919            69.188424   \n",
       "MK250027             53.023256            46.976744            69.318761   \n",
       "MK250026             53.201397            46.798603            69.363285   \n",
       "\n",
       "           tRNAs  Molecule_DNA  Molecule_RNA  Molecule_ss-DNA  Molecule_ss-RNA  \n",
       "Accession                                                                       \n",
       "MN335248       0             0             0                1                0  \n",
       "MK250029      30             1             0                0                0  \n",
       "MK250028      29             1             0                0                0  \n",
       "MK250027      33             1             0                0                0  \n",
       "MK250026      33             1             0                0                0  "
      ]
     },
     "execution_count": 17,
     "metadata": {},
     "output_type": "execute_result"
    }
   ],
   "source": [
    "df = pd.read_csv(\"../data/processed/model_data.csv\", index_col=0)\n",
    "df.head()"
   ]
  },
  {
   "cell_type": "code",
   "execution_count": 18,
   "metadata": {},
   "outputs": [
    {
     "data": {
      "text/plain": [
       "staining\n",
       "negative    7932\n",
       "positive    3224\n",
       "Name: count, dtype: int64"
      ]
     },
     "execution_count": 18,
     "metadata": {},
     "output_type": "execute_result"
    }
   ],
   "source": [
    "df['staining'].value_counts()"
   ]
  },
  {
   "cell_type": "code",
   "execution_count": 19,
   "metadata": {},
   "outputs": [],
   "source": [
    "# Features (independent variables)\n",
    "features = ['Genome Length (bp)', 'Jumbophage', 'molGC (%)', 'Number CDS',\n",
    "            'Positive Strand (%)', 'Negative Strand (%)', 'Coding Capacity (%)',\n",
    "            'tRNAs', 'Molecule_DNA', 'Molecule_RNA', 'Molecule_ss-DNA', 'Molecule_ss-RNA']\n",
    "\n",
    "# Target variable (dependent variable)\n",
    "target = 'staining'"
   ]
  },
  {
   "cell_type": "code",
   "execution_count": 20,
   "metadata": {},
   "outputs": [],
   "source": [
    "# Extract features and target\n",
    "X = df[features]\n",
    "y = df[target]\n",
    "\n",
    "# Split the data into training and testing sets (80% train, 20% test)\n",
    "X_train, X_test, y_train, y_test = train_test_split(X, y, test_size=0.2, random_state=42)"
   ]
  },
  {
   "cell_type": "markdown",
   "metadata": {},
   "source": [
    "# Logistic regression model"
   ]
  },
  {
   "cell_type": "code",
   "execution_count": 21,
   "metadata": {},
   "outputs": [
    {
     "data": {
      "text/html": [
       "<style>#sk-container-id-3 {color: black;}#sk-container-id-3 pre{padding: 0;}#sk-container-id-3 div.sk-toggleable {background-color: white;}#sk-container-id-3 label.sk-toggleable__label {cursor: pointer;display: block;width: 100%;margin-bottom: 0;padding: 0.3em;box-sizing: border-box;text-align: center;}#sk-container-id-3 label.sk-toggleable__label-arrow:before {content: \"▸\";float: left;margin-right: 0.25em;color: #696969;}#sk-container-id-3 label.sk-toggleable__label-arrow:hover:before {color: black;}#sk-container-id-3 div.sk-estimator:hover label.sk-toggleable__label-arrow:before {color: black;}#sk-container-id-3 div.sk-toggleable__content {max-height: 0;max-width: 0;overflow: hidden;text-align: left;background-color: #f0f8ff;}#sk-container-id-3 div.sk-toggleable__content pre {margin: 0.2em;color: black;border-radius: 0.25em;background-color: #f0f8ff;}#sk-container-id-3 input.sk-toggleable__control:checked~div.sk-toggleable__content {max-height: 200px;max-width: 100%;overflow: auto;}#sk-container-id-3 input.sk-toggleable__control:checked~label.sk-toggleable__label-arrow:before {content: \"▾\";}#sk-container-id-3 div.sk-estimator input.sk-toggleable__control:checked~label.sk-toggleable__label {background-color: #d4ebff;}#sk-container-id-3 div.sk-label input.sk-toggleable__control:checked~label.sk-toggleable__label {background-color: #d4ebff;}#sk-container-id-3 input.sk-hidden--visually {border: 0;clip: rect(1px 1px 1px 1px);clip: rect(1px, 1px, 1px, 1px);height: 1px;margin: -1px;overflow: hidden;padding: 0;position: absolute;width: 1px;}#sk-container-id-3 div.sk-estimator {font-family: monospace;background-color: #f0f8ff;border: 1px dotted black;border-radius: 0.25em;box-sizing: border-box;margin-bottom: 0.5em;}#sk-container-id-3 div.sk-estimator:hover {background-color: #d4ebff;}#sk-container-id-3 div.sk-parallel-item::after {content: \"\";width: 100%;border-bottom: 1px solid gray;flex-grow: 1;}#sk-container-id-3 div.sk-label:hover label.sk-toggleable__label {background-color: #d4ebff;}#sk-container-id-3 div.sk-serial::before {content: \"\";position: absolute;border-left: 1px solid gray;box-sizing: border-box;top: 0;bottom: 0;left: 50%;z-index: 0;}#sk-container-id-3 div.sk-serial {display: flex;flex-direction: column;align-items: center;background-color: white;padding-right: 0.2em;padding-left: 0.2em;position: relative;}#sk-container-id-3 div.sk-item {position: relative;z-index: 1;}#sk-container-id-3 div.sk-parallel {display: flex;align-items: stretch;justify-content: center;background-color: white;position: relative;}#sk-container-id-3 div.sk-item::before, #sk-container-id-3 div.sk-parallel-item::before {content: \"\";position: absolute;border-left: 1px solid gray;box-sizing: border-box;top: 0;bottom: 0;left: 50%;z-index: -1;}#sk-container-id-3 div.sk-parallel-item {display: flex;flex-direction: column;z-index: 1;position: relative;background-color: white;}#sk-container-id-3 div.sk-parallel-item:first-child::after {align-self: flex-end;width: 50%;}#sk-container-id-3 div.sk-parallel-item:last-child::after {align-self: flex-start;width: 50%;}#sk-container-id-3 div.sk-parallel-item:only-child::after {width: 0;}#sk-container-id-3 div.sk-dashed-wrapped {border: 1px dashed gray;margin: 0 0.4em 0.5em 0.4em;box-sizing: border-box;padding-bottom: 0.4em;background-color: white;}#sk-container-id-3 div.sk-label label {font-family: monospace;font-weight: bold;display: inline-block;line-height: 1.2em;}#sk-container-id-3 div.sk-label-container {text-align: center;}#sk-container-id-3 div.sk-container {/* jupyter's `normalize.less` sets `[hidden] { display: none; }` but bootstrap.min.css set `[hidden] { display: none !important; }` so we also need the `!important` here to be able to override the default hidden behavior on the sphinx rendered scikit-learn.org. See: https://github.com/scikit-learn/scikit-learn/issues/21755 */display: inline-block !important;position: relative;}#sk-container-id-3 div.sk-text-repr-fallback {display: none;}</style><div id=\"sk-container-id-3\" class=\"sk-top-container\"><div class=\"sk-text-repr-fallback\"><pre>LogisticRegression()</pre><b>In a Jupyter environment, please rerun this cell to show the HTML representation or trust the notebook. <br />On GitHub, the HTML representation is unable to render, please try loading this page with nbviewer.org.</b></div><div class=\"sk-container\" hidden><div class=\"sk-item\"><div class=\"sk-estimator sk-toggleable\"><input class=\"sk-toggleable__control sk-hidden--visually\" id=\"sk-estimator-id-3\" type=\"checkbox\" checked><label for=\"sk-estimator-id-3\" class=\"sk-toggleable__label sk-toggleable__label-arrow\">LogisticRegression</label><div class=\"sk-toggleable__content\"><pre>LogisticRegression()</pre></div></div></div></div></div>"
      ],
      "text/plain": [
       "LogisticRegression()"
      ]
     },
     "execution_count": 21,
     "metadata": {},
     "output_type": "execute_result"
    }
   ],
   "source": [
    "# Train a logistic regression model\n",
    "logreg = LogisticRegression()\n",
    "logreg.fit(X_train, y_train)"
   ]
  },
  {
   "cell_type": "code",
   "execution_count": 22,
   "metadata": {},
   "outputs": [],
   "source": [
    "# Predict probabilities on the test set\n",
    "y_pred_proba = logreg.predict_proba(X_test)[:, 1]  # Probabilities for the positive class\n",
    "\n",
    "# Predict class labels for F1 score calculation\n",
    "y_pred = logreg.predict(X_test)\n",
    "\n",
    "# Encode labels for mean squared error calculation\n",
    "label_encoder = LabelEncoder()\n",
    "y_test_encoded = label_encoder.fit_transform(y_test)\n",
    "y_pred_encoded = label_encoder.transform(y_pred)\n"
   ]
  },
  {
   "cell_type": "code",
   "execution_count": 23,
   "metadata": {},
   "outputs": [
    {
     "name": "stdout",
     "output_type": "stream",
     "text": [
      "Accuracy: 0.7450716845878136\n",
      "Balanced Accuracy: 0.5717191836799154\n",
      "Log Loss: 0.5591185876984811\n",
      "Mean Squared Error: 0.25492831541218636\n",
      "\n",
      "F1 Score: 0.2751592356687898\n",
      "Matthews Correlation Coefficient: 0.2575572836055283\n",
      "Matthews Correlation Coefficient Details:  \n",
      "     P: 634 \n",
      "     Tp: 108 \n",
      "     Fp: 43 \n",
      "     N: 1_598 \n",
      "     Tn: 1_555 \n",
      "     Fn: 526\n",
      "\n",
      "Classification Report:\n",
      "               precision    recall  f1-score   support\n",
      "\n",
      "           0       0.75      0.97      0.85      1598\n",
      "           1       0.72      0.17      0.28       634\n",
      "\n",
      "    accuracy                           0.75      2232\n",
      "   macro avg       0.73      0.57      0.56      2232\n",
      "weighted avg       0.74      0.75      0.68      2232\n",
      "\n"
     ]
    }
   ],
   "source": [
    "# Calculate F1 score\n",
    "positive_label = 'positive'\n",
    "f1score = f1_score(y_test, y_pred, pos_label=positive_label)\n",
    "\n",
    "# Calculate log loss using predicted probabilities\n",
    "logloss = log_loss(y_test, y_pred_proba)\n",
    "\n",
    "# Calculate mean squared error using encoded labels\n",
    "mse = mean_squared_error(y_test_encoded, y_pred_encoded)\n",
    "\n",
    "# Calculate accuracy\n",
    "accuracy = accuracy_score(y_test_encoded, y_pred_encoded)\n",
    "\n",
    "# Calculate balanced accuracy\n",
    "balanced_accuracy = balanced_accuracy_score(y_test_encoded, y_pred_encoded)\n",
    "\n",
    "# Calculate Matthews Correlation Coefficient (MCC)\n",
    "mcc, mcc_details = matthews(y_test_encoded, y_pred_encoded)\n",
    "\n",
    "# Generate the classification report\n",
    "classification_report_str = classification_report(y_test_encoded, y_pred_encoded)\n",
    "\n",
    "# Print the evaluation metrics\n",
    "print('Accuracy:', accuracy)\n",
    "print('Balanced Accuracy:', balanced_accuracy)\n",
    "print('Log Loss:', logloss)  # Use the calculated log loss\n",
    "print('Mean Squared Error:', mse)\n",
    "print()\n",
    "print('F1 Score:', f1score)\n",
    "print('Matthews Correlation Coefficient:', mcc)\n",
    "print('Matthews Correlation Coefficient Details:', mcc_details)\n",
    "print()\n",
    "print('Classification Report:\\n', classification_report_str)\n"
   ]
  },
  {
   "cell_type": "markdown",
   "metadata": {},
   "source": [
    "# Random Forest"
   ]
  },
  {
   "cell_type": "code",
   "execution_count": 24,
   "metadata": {},
   "outputs": [
    {
     "data": {
      "text/html": [
       "<style>#sk-container-id-4 {color: black;}#sk-container-id-4 pre{padding: 0;}#sk-container-id-4 div.sk-toggleable {background-color: white;}#sk-container-id-4 label.sk-toggleable__label {cursor: pointer;display: block;width: 100%;margin-bottom: 0;padding: 0.3em;box-sizing: border-box;text-align: center;}#sk-container-id-4 label.sk-toggleable__label-arrow:before {content: \"▸\";float: left;margin-right: 0.25em;color: #696969;}#sk-container-id-4 label.sk-toggleable__label-arrow:hover:before {color: black;}#sk-container-id-4 div.sk-estimator:hover label.sk-toggleable__label-arrow:before {color: black;}#sk-container-id-4 div.sk-toggleable__content {max-height: 0;max-width: 0;overflow: hidden;text-align: left;background-color: #f0f8ff;}#sk-container-id-4 div.sk-toggleable__content pre {margin: 0.2em;color: black;border-radius: 0.25em;background-color: #f0f8ff;}#sk-container-id-4 input.sk-toggleable__control:checked~div.sk-toggleable__content {max-height: 200px;max-width: 100%;overflow: auto;}#sk-container-id-4 input.sk-toggleable__control:checked~label.sk-toggleable__label-arrow:before {content: \"▾\";}#sk-container-id-4 div.sk-estimator input.sk-toggleable__control:checked~label.sk-toggleable__label {background-color: #d4ebff;}#sk-container-id-4 div.sk-label input.sk-toggleable__control:checked~label.sk-toggleable__label {background-color: #d4ebff;}#sk-container-id-4 input.sk-hidden--visually {border: 0;clip: rect(1px 1px 1px 1px);clip: rect(1px, 1px, 1px, 1px);height: 1px;margin: -1px;overflow: hidden;padding: 0;position: absolute;width: 1px;}#sk-container-id-4 div.sk-estimator {font-family: monospace;background-color: #f0f8ff;border: 1px dotted black;border-radius: 0.25em;box-sizing: border-box;margin-bottom: 0.5em;}#sk-container-id-4 div.sk-estimator:hover {background-color: #d4ebff;}#sk-container-id-4 div.sk-parallel-item::after {content: \"\";width: 100%;border-bottom: 1px solid gray;flex-grow: 1;}#sk-container-id-4 div.sk-label:hover label.sk-toggleable__label {background-color: #d4ebff;}#sk-container-id-4 div.sk-serial::before {content: \"\";position: absolute;border-left: 1px solid gray;box-sizing: border-box;top: 0;bottom: 0;left: 50%;z-index: 0;}#sk-container-id-4 div.sk-serial {display: flex;flex-direction: column;align-items: center;background-color: white;padding-right: 0.2em;padding-left: 0.2em;position: relative;}#sk-container-id-4 div.sk-item {position: relative;z-index: 1;}#sk-container-id-4 div.sk-parallel {display: flex;align-items: stretch;justify-content: center;background-color: white;position: relative;}#sk-container-id-4 div.sk-item::before, #sk-container-id-4 div.sk-parallel-item::before {content: \"\";position: absolute;border-left: 1px solid gray;box-sizing: border-box;top: 0;bottom: 0;left: 50%;z-index: -1;}#sk-container-id-4 div.sk-parallel-item {display: flex;flex-direction: column;z-index: 1;position: relative;background-color: white;}#sk-container-id-4 div.sk-parallel-item:first-child::after {align-self: flex-end;width: 50%;}#sk-container-id-4 div.sk-parallel-item:last-child::after {align-self: flex-start;width: 50%;}#sk-container-id-4 div.sk-parallel-item:only-child::after {width: 0;}#sk-container-id-4 div.sk-dashed-wrapped {border: 1px dashed gray;margin: 0 0.4em 0.5em 0.4em;box-sizing: border-box;padding-bottom: 0.4em;background-color: white;}#sk-container-id-4 div.sk-label label {font-family: monospace;font-weight: bold;display: inline-block;line-height: 1.2em;}#sk-container-id-4 div.sk-label-container {text-align: center;}#sk-container-id-4 div.sk-container {/* jupyter's `normalize.less` sets `[hidden] { display: none; }` but bootstrap.min.css set `[hidden] { display: none !important; }` so we also need the `!important` here to be able to override the default hidden behavior on the sphinx rendered scikit-learn.org. See: https://github.com/scikit-learn/scikit-learn/issues/21755 */display: inline-block !important;position: relative;}#sk-container-id-4 div.sk-text-repr-fallback {display: none;}</style><div id=\"sk-container-id-4\" class=\"sk-top-container\"><div class=\"sk-text-repr-fallback\"><pre>RandomForestClassifier()</pre><b>In a Jupyter environment, please rerun this cell to show the HTML representation or trust the notebook. <br />On GitHub, the HTML representation is unable to render, please try loading this page with nbviewer.org.</b></div><div class=\"sk-container\" hidden><div class=\"sk-item\"><div class=\"sk-estimator sk-toggleable\"><input class=\"sk-toggleable__control sk-hidden--visually\" id=\"sk-estimator-id-4\" type=\"checkbox\" checked><label for=\"sk-estimator-id-4\" class=\"sk-toggleable__label sk-toggleable__label-arrow\">RandomForestClassifier</label><div class=\"sk-toggleable__content\"><pre>RandomForestClassifier()</pre></div></div></div></div></div>"
      ],
      "text/plain": [
       "RandomForestClassifier()"
      ]
     },
     "execution_count": 24,
     "metadata": {},
     "output_type": "execute_result"
    }
   ],
   "source": [
    "# Train a logistic regression model\n",
    "logreg = RandomForestClassifier()\n",
    "logreg.fit(X_train, y_train)"
   ]
  },
  {
   "cell_type": "code",
   "execution_count": 25,
   "metadata": {},
   "outputs": [],
   "source": [
    "# Predict probabilities on the test set\n",
    "y_pred_proba = logreg.predict_proba(X_test)[:, 1]  # Probabilities for the positive class\n",
    "\n",
    "# Predict class labels for F1 score calculation\n",
    "y_pred = logreg.predict(X_test)\n",
    "\n",
    "# Encode labels for mean squared error calculation\n",
    "label_encoder = LabelEncoder()\n",
    "y_test_encoded = label_encoder.fit_transform(y_test)\n",
    "y_pred_encoded = label_encoder.transform(y_pred)"
   ]
  },
  {
   "cell_type": "code",
   "execution_count": 26,
   "metadata": {},
   "outputs": [
    {
     "name": "stdout",
     "output_type": "stream",
     "text": [
      "Accuracy: 0.9543010752688172\n",
      "Balanced Accuracy: 0.9290734080060643\n",
      "Log Loss: 0.14200359557742584\n",
      "Mean Squared Error: 0.0456989247311828\n",
      "\n",
      "F1 Score: 0.9154228855721394\n",
      "Matthews Correlation Coefficient: 0.8864261377564321\n",
      "Matthews Correlation Coefficient Details:  \n",
      "     P: 634 \n",
      "     Tp: 552 \n",
      "     Fp: 20 \n",
      "     N: 1_598 \n",
      "     Tn: 1_578 \n",
      "     Fn: 82\n",
      "\n",
      "Classification Report:\n",
      "               precision    recall  f1-score   support\n",
      "\n",
      "           0       0.95      0.99      0.97      1598\n",
      "           1       0.97      0.87      0.92       634\n",
      "\n",
      "    accuracy                           0.95      2232\n",
      "   macro avg       0.96      0.93      0.94      2232\n",
      "weighted avg       0.95      0.95      0.95      2232\n",
      "\n"
     ]
    }
   ],
   "source": [
    "# Calculate F1 score\n",
    "positive_label = 'positive'\n",
    "f1score = f1_score(y_test, y_pred, pos_label=positive_label)\n",
    "\n",
    "# Calculate log loss using predicted probabilities\n",
    "logloss = log_loss(y_test, y_pred_proba)\n",
    "\n",
    "# Calculate mean squared error using encoded labels\n",
    "mse = mean_squared_error(y_test_encoded, y_pred_encoded)\n",
    "\n",
    "# Calculate accuracy\n",
    "accuracy = accuracy_score(y_test_encoded, y_pred_encoded)\n",
    "\n",
    "# Calculate balanced accuracy\n",
    "balanced_accuracy = balanced_accuracy_score(y_test_encoded, y_pred_encoded)\n",
    "\n",
    "# Calculate Matthews Correlation Coefficient (MCC)\n",
    "mcc, mcc_details = matthews(y_test_encoded, y_pred_encoded)\n",
    "\n",
    "# Generate the classification report\n",
    "classification_report_str = classification_report(y_test_encoded, y_pred_encoded)\n",
    "\n",
    "# Print the evaluation metrics\n",
    "print('Accuracy:', accuracy)\n",
    "print('Balanced Accuracy:', balanced_accuracy)\n",
    "print('Log Loss:', logloss)  # Use the calculated log loss\n",
    "print('Mean Squared Error:', mse)\n",
    "print()\n",
    "print('F1 Score:', f1score)\n",
    "print('Matthews Correlation Coefficient:', mcc)\n",
    "print('Matthews Correlation Coefficient Details:', mcc_details)\n",
    "print()\n",
    "print('Classification Report:\\n', classification_report_str)"
   ]
  },
  {
   "cell_type": "markdown",
   "metadata": {},
   "source": [
    "# Random forest with weights"
   ]
  },
  {
   "cell_type": "code",
   "execution_count": 35,
   "metadata": {},
   "outputs": [
    {
     "name": "stdout",
     "output_type": "stream",
     "text": [
      "Accuracy: 0.9551971326164874\n",
      "Balanced Accuracy: 0.9296991902338492\n",
      "Log Loss: 0.1677458489520838\n",
      "Mean Squared Error: 0.044802867383512544\n",
      "\n",
      "F1 Score: 0.9169435215946844\n",
      "Matthews Correlation Coefficient: 0.8864261377564321\n",
      "Matthews Correlation Coefficient Details:  \n",
      "     P: 634 \n",
      "     Tp: 552 \n",
      "     Fp: 20 \n",
      "     N: 1_598 \n",
      "     Tn: 1_578 \n",
      "     Fn: 82\n",
      "\n",
      "Classification Report:\n",
      "               precision    recall  f1-score   support\n",
      "\n",
      "           0       0.95      0.99      0.97      1598\n",
      "           1       0.97      0.87      0.92       634\n",
      "\n",
      "    accuracy                           0.96      2232\n",
      "   macro avg       0.96      0.93      0.94      2232\n",
      "weighted avg       0.96      0.96      0.95      2232\n",
      "\n"
     ]
    }
   ],
   "source": [
    "# Features (independent variables)\n",
    "features = ['Genome Length (bp)', 'Jumbophage', 'molGC (%)', 'Number CDS',\n",
    "            'Positive Strand (%)', 'Negative Strand (%)', 'Coding Capacity (%)',\n",
    "            'tRNAs', 'Molecule_DNA', 'Molecule_RNA', 'Molecule_ss-DNA', 'Molecule_ss-RNA']\n",
    "\n",
    "# Target variable (dependent variable)\n",
    "target = 'staining'\n",
    "X = df[features]\n",
    "y = df[target]\n",
    "\n",
    "# Ensure y only contains valid labels ('negative' and 'positive')\n",
    "y = y[(y == 'negative') | (y == 'positive')]\n",
    "\n",
    "# Encode the target variable 'staining' to numerical labels\n",
    "label_encoder = LabelEncoder()\n",
    "y_encoded = label_encoder.fit_transform(y)\n",
    "\n",
    "# Split the data into training and testing sets\n",
    "X_train, X_test, y_train, y_test = train_test_split(X, y_encoded, test_size=0.2, random_state=42)\n",
    "\n",
    "# Calculate class weights\n",
    "class_weights = compute_class_weight('balanced', classes=np.unique(y_train), y=y_train)\n",
    "\n",
    "# Train a random forest model with class weighting\n",
    "logreg = RandomForestClassifier(class_weight={0: class_weights[0], 1: class_weights[1]})\n",
    "logreg.fit(X_train, y_train)\n",
    "\n",
    "# Predict probabilities on the test set\n",
    "y_pred_proba = logreg.predict_proba(X_test)[:, 1]\n",
    "\n",
    "# Predict class labels for F1 score calculation\n",
    "y_pred = logreg.predict(X_test)\n",
    "\n",
    "# Calculate evaluation metrics\n",
    "f1score = f1_score(y_test, y_pred, pos_label=1)  # Positive class is 1 after encoding\n",
    "logloss = log_loss(y_test, y_pred_proba)\n",
    "mse = mean_squared_error(y_test, y_pred)\n",
    "accuracy = accuracy_score(y_test, y_pred)\n",
    "balanced_accuracy = balanced_accuracy_score(y_test, y_pred)\n",
    "\n",
    "# Generate the classification report\n",
    "classification_report_str = classification_report(y_test, y_pred)\n",
    "\n",
    "# Print the evaluation metrics\n",
    "print('Accuracy:', accuracy)\n",
    "print('Balanced Accuracy:', balanced_accuracy)\n",
    "print('Log Loss:', logloss)  # Use the calculated log loss\n",
    "print('Mean Squared Error:', mse)\n",
    "print()\n",
    "print('F1 Score:', f1score)\n",
    "print('Matthews Correlation Coefficient:', mcc)\n",
    "print('Matthews Correlation Coefficient Details:', mcc_details)\n",
    "print()\n",
    "print('Classification Report:\\n', classification_report_str)"
   ]
  },
  {
   "cell_type": "markdown",
   "metadata": {},
   "source": [
    "# Feature selection"
   ]
  },
  {
   "cell_type": "code",
   "execution_count": 96,
   "metadata": {},
   "outputs": [],
   "source": [
    "from sklearn.ensemble import RandomForestClassifier\n",
    "from sklearn.feature_selection import SelectFromModel\n",
    "\n",
    "model = RandomForestClassifier()\n",
    "sfm = SelectFromModel(model, threshold='mean')\n",
    "fit = sfm.fit(X_train, y_train)\n",
    "selected_features_sfm = X_train.columns[fit.get_support()]\n"
   ]
  },
  {
   "cell_type": "code",
   "execution_count": 97,
   "metadata": {},
   "outputs": [
    {
     "data": {
      "text/plain": [
       "Index(['molGC (%)', 'Positive Strand (%)', 'Negative Strand (%)',\n",
       "       'Coding Capacity (%)', 'tRNAs'],\n",
       "      dtype='object')"
      ]
     },
     "execution_count": 97,
     "metadata": {},
     "output_type": "execute_result"
    }
   ],
   "source": [
    "selected_features_sfm"
   ]
  }
 ],
 "metadata": {
  "kernelspec": {
   "display_name": "phage",
   "language": "python",
   "name": "python3"
  },
  "language_info": {
   "codemirror_mode": {
    "name": "ipython",
    "version": 3
   },
   "file_extension": ".py",
   "mimetype": "text/x-python",
   "name": "python",
   "nbconvert_exporter": "python",
   "pygments_lexer": "ipython3",
   "version": "3.8.17"
  },
  "orig_nbformat": 4
 },
 "nbformat": 4,
 "nbformat_minor": 2
}
