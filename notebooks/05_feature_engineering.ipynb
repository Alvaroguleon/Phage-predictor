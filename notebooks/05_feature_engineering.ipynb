{
 "cells": [
  {
   "cell_type": "code",
   "execution_count": 1,
   "metadata": {},
   "outputs": [],
   "source": [
    "import pandas as pd\n",
    "import csv\n",
    "from Bio import SeqIO\n",
    "from Bio.SeqFeature import FeatureLocation\n",
    "from Bio.Seq import UndefinedSequenceError\n",
    "import subprocess\n",
    "\n",
    "def unix_call(command):\n",
    "    job = subprocess.run(command.split()) "
   ]
  },
  {
   "cell_type": "code",
   "execution_count": 12,
   "metadata": {},
   "outputs": [
    {
     "name": "stdout",
     "output_type": "stream",
     "text": [
      "Dealing with GenBank record EF380009.1\n"
     ]
    }
   ],
   "source": [
    "gbk_filename =  \"/Users/Alvaro/Desktop/phage/sequence.gb\"\n",
    "faa_filename = \"NC_005213_converted.fna\"\n",
    "input_handle  = open(gbk_filename, \"r\")\n",
    "output_handle = open(faa_filename, \"w\")\n",
    "\n",
    "for seq_record in SeqIO.parse(input_handle, \"genbank\") :\n",
    "    print (\"Dealing with GenBank record %s\" % seq_record.id)\n",
    "    output_handle.write(\">%s %s\\n%s\\n\" % (\n",
    "           seq_record.id,\n",
    "           seq_record.description,\n",
    "           seq_record.seq))\n",
    "\n",
    "output_handle.close()\n",
    "input_handle.close()"
   ]
  },
  {
   "cell_type": "markdown",
   "metadata": {},
   "source": [
    "# Calling one sequence as a test"
   ]
  },
  {
   "cell_type": "code",
   "execution_count": 2,
   "metadata": {},
   "outputs": [],
   "source": [
    "output_directory = \"../data/interim/pharokka/\"\n",
    "database_dir = \"../data/external/pharokka_v1.4.0_databases\""
   ]
  },
  {
   "cell_type": "code",
   "execution_count": 3,
   "metadata": {},
   "outputs": [
    {
     "name": "stdout",
     "output_type": "stream",
     "text": [
      "Processing record: EF380009.1\n",
      "\n",
      "GAGTTTTATCGCTTCCATGACGCAGAAGTTAACACTTTCGGATATTTCTGATGAGTCGAAAAATTATCTTGATAAAGCAGGAATTACTACTGCTTGTTTACGAATTAAATCGAAGTGGACTGCTGGCGGAAAATGAGAAAATTCGACCTATCCTTGCGCAGCTCGAGAAGCTCTTACTTTGCGACCTTTCGCCATCAACTAACGATTCTGTCAAAAACTGACGCGTTGGATGAGGAGAAGTGGCTTAATATGCTTGGCACGTTCGTCAAGGACTGGTTTAGATATGAGTCACATTTTGTTCATGGTAGAGATTCTCTTGTTGACATTTTAAAAGAGCGTGGATTACTATCTGAGTCCGATGCTGTTTAACCACTAATAGGTAAGAAATCATGAGTCAAGTTACTGAACAATCCGTACGTTTCCAGACCGCTTTGGCCTCTATTAAGCTCATTCAGGCTTCTGCCGTTTTGGATTTAACCGAAGATGATTTCGATTTTCTGACGAGTAACAAAGTTTGGATTGCTACTGACCGCTCTCGTGCTCGTCGCTGCGTTGAGGCTTGCGTTTATGGTACGCTGGACTTTGTGGGATACCCTCGCTTTCCTGCTCCTGTTGAGTTTATTGCTGCCGTCATTGCTTATTATGTTCATCCCGTCAACATTCAAACGGCCTGTCTCATCATGGAAGGCGCTGAATTTACGGAAAACATTATTAATGGCGTCGAGCGTCCGGTTAAAGCCGCTGAATTGTTCGCGTTTACCTTGCGTGTACGCGCAGGAAACACTGACGTTCTTACTGACGCAGAAGAAAACGTGCGTCAAAAATTACGTGCAGAAGGAGTGATGTAATGTCTAAAGGTAAAAAACGTTCTGGCGCTCGCCCTGGTCGTCCGCAGCCGTTGCGAGGTACTAAAGGCAAGCGTAAAGGCGCTCGTCTTTGGTATGTAGGTGGTCAACAATTTTAATTGCAGGGGCTTCGGCCCCTTACTTGAGGATAAATTATGTCTAATATTCAAACTGGCGCCGAGCGTATGCCGCATGACCTTTCCCATCTTGGCTTCCTTGCTGGTCAGATTGGTCGTCTTATTACCATTTCAACTACTCCGGTTATCGCTGGCGACTCCTTCGAGATGGACGCCGTTGGCGCTCTCCGTCTTTCTCCATTGCGTCGTGGCCTTGCTATTGACTCTACTGTAGACATTTTTACTTTTTATGTCCCTCATCGTCACGTTTATGGTGAACAGTGGATTAAGTTCATGAAGGATGGTGTTAATGCCACTCCTCTCCCGACTGTTAACACTACTGGTTATATTGACCATGCCGCTTTTCTTGGCACGATTAACCCTGATACCAATAAAATCCCTAAGCATTTGTTTCAGGGTTATTTGAATATCTATAACAACTATTTTAAAGCGCCGTGGATGCCTGACCGTACCGAGGCTAACCCTAATGAGCTTAATGAAGATGATGCTCGTTATGGTTTCCGTTGCTGCCATCTCAAAAACATTTGGACTGCTCCGCTTCCTCCTGAGACTGAGCTTTCTCGCCAAATGACGACTTCTACCACATCTATTGACATTATGGGTCTGCAAGCTGCTTATGCTAATTTGCATACTGACCAAGAACGTGATTACTTCATGCAGCGTTACCGTGATGTTATTTCTTCATTTGGAGGTAAAACCTCTTATGACGCTGACAACCGTCCTTTACTTGTCATGCGCTCTAATTTCTGGGCATCTGGCTATGATGTTGATGGAACTGACCAAACGTCGTTAGGCCAGTTTTCTGGTCGTGTTCAACAGACCTATAAACATTCTGTGCCGCGTTTCTTTGTTCCTGAGCATGGCACTATGTTTACTCTTGCGCTTGTTCGTTTTCCGCCTACTGCGACTAAAGAGATTCAGTACCTTAACGCTAAAGGTGCTTTGACTTATACCGATATTGCTGGCGACCCTGTTTTGTATGGCAACTTGCCGCCGCGTGAAATTTCTATGAAGGATGTTTTCCGTTCTGGTGATTCGTCTAAGAAGTTTAAGATTGCTGAGGGTCAGTGGTATCGTTATGCGCCTTCGTATGTTTCTCCTGTTTATCACCTTCTTGAAGGCTTCCCATTCATTCAGGAACCGCCTTCTGGTGATTTGCAAGAACGCGTACTTATTCGCCACCATGATTATGACCAGTGTTTCCAGTCCGTTCAGTTGTTGCAGTGGAATAGTCAGGTTAAATTTAATGTGACCGTTTATCGCAATCTGCCGACCACTCGCGATTCAATCATGACTTCGTGATAAAAGATTGAGTGTGAGGTTATAACGCCGAAGCGGTAAAAATTTTAATTTTTGCCGCTGAGGGGTTGACCAAGCGAAGCGCGGTAGGTTTTCTGCTTAGGAGTTTAATCATGTTTCAGACTTTTATTTCTCGCCATAATTCAAACTTTTTTTCTGATAAGCTGGTTCTCACTTCTGTTACTCCAGCTTCTTCGGCACCTGTTTTACAGACACCTAAAGCTACATCGTCAACGTTATATTTTGATAGTTTGACGGTTAATGCTGGTAATGGTGGTTTTCTTCATTGCATTCAGATGGATACATCTGTCAACGCCGCTAATCAGGTTGTTTCTGTTGGTGCTGATATTGCTTTTGATGCCGACCCTAAATTTTTTGCCTGTTTGGTTCGCTTTGAGTCTTCTTCGGTTCCGACTACCCTCCCGACTGCCTATGATGTTTATCCTTTGGATGGTCGCCATGATGGTGGTTATTATACCGTCAAGGACTGTGTGACTATTGACGTCCTTCCCCGTACGCCGGGCAATAATGTTTATGTTGGTTTCATGGTTTGGTCTAACTTTACCGCTACTAAATGCCGCGGATTGGTTTCGCTGAATCAGGTTATTAAAGAGATTATTTGTCTCCAGCCACTTAAGTGAGGTGATTTATGTTTGGTGCTATTGCTGGCGGTATTGCTTCTGCTCTTGCTGGTGGCGCCATGTCTAAATTGTTTGGAGGCGGTCAAAAAGCCGCCTCCGGTGGCATTCAAGGTGATGTGCTTGCTACCGATAACAATACTGTAGGCATGGGTGATGCTGGTATTAAATCTGCCATTCAAGGCTCTAATGTTCCTAACCATGATGAGGCCGCCCCTAATTTTGTTTCTGGTGCTATGGCTAAAGCTGGTAAAGGACTTCTTGAAGGTACGTTGCAGGCTGGCACTTCTGCCGTTTCTGATAAGTTGCTTGATTTGGTTGGACTTGGTGGCAAGTCTGCCGCTGATAAAGGAAAGGATACTCGTGATTATCTTGCTGCTGCATTTCCTGAGCTTAATGCTTGGGAGCGTGCTGGTGCTGATGCTTCCTCTGCTGGTATGGTTGACGCCGGATTTGAGAATCAAAAAGAGCTTACTAAAATGCAACTGGACAATCAGAAAGAGATTGCCGAGATGCAAAATGAGACTCAAAAAGAGATTGCTGGCATTCAGTCGGCGACTTCACGCCAGAATACGAAAGACCAGGTATATGCACAAAATGAGATGCTTGCTTATCAACAGAAGGAGTCTACTGCTCGCGTTGCGTCTATTATGGAAAACACCAATCTTTCCAAGCAACAGCAGGTTTCCGAGATTATGCGCCAAATGCTTACTCAAGCTCAAACGGCTGGTCAGTATTTTACCAATGACCAAATCAAAGAAATGACTCGCAAGGTTAGTGCTGAGGTTGACTTAGTTCATCAGCAAACGCAGAATCAGCGGTATGGCTCTTCTCATATTGGCGCTACTGCAAAGGATATTTCTAATGTCGTCACTGATGCTGCTTCTGGTGTGGTTGATATTTTTCATGGTATTGATAAAGCTGTTGCCGATACTTGGAACAATTTCTGGAAAGACGGTAAAGCTGATGGTATTGGCTCTAATTTGTCTAGGAAATAACCGTCAGGATTGACACCCTCCCAATTGTATGTTTTCATGCCTCCAAATCTTGGAGGCTTTTTTATGGTTCGTTCTTATTACCCTTCTGAATGTCACGCTGATTATTTTGACTTTGAGCGTATCGAGGCTCTTAAACCTGCTATTGAGGCTTGTGGCATTTCTACTCTTTCTCAATCCCCAATGCTTGGCTTCCATAAGCAGATGGATAACCGCATCAAGCTCTTGGAAGAGATTCTGTCTTTTCGTATGCAGGGCGTTGAGTTCGATAATGGTGATATGTATGTTGACGGCCATAAGGCTGCTTCTGACGTTCGTGATGAGTTTGTATCTGTTACTGAGAAGTTAATGGATGAATTGGCACAATGCTACAATGTGCTCCCCCAACTTGATATTAATAACACTATAGACCACCGCCCCGAAGGGGACGAAAAATGGTTTTTAGAGAACGAGAAGACGGTTACGCAGTTTTGCCGCAAGCTGGCTGCTGAACGCCCTCTTAAGGATATTCGCGATGAGTATAATTACCCCAAAAAGAAAGGTATTAAGGATGAGTGTTCAAGATTGCTGGAGGCCTCCACTATGAAATCGCGTAGAGGCTTTACTATTCAGCGTTTGATGAATGCAATGCGACAGGCTCATGCTGATGGTTGGTTTATCGTTTTTGACACTCTCACGTTGGCTGACGACCGATTAGAGGCGTTTTATGATAATCCCAATGCTTTGCGTGACTATTTTCGTGATATTGGTCGTATGGTTCTTGCTGCCGAGGGTCGCAAGGCTAATGATTCACACGCCGACTGCTATCAGTATTTTTGTGTGCCTGAGTATGGTACAGCTAATGGCCGTCTTCATTTCCATGCGGTGCACTTTATGCGGACACTTCCTACAGGTAGCGTTGACCCTAATTTTGGTCGTCGGGTACGCAATCGCCGCCAGTTAAATAGCTTGCAAAATACGTGGCCTTATGGTTACAGTATGCCCATCGCAGTTCGCTACACGCAGGACGCTTTTTCACGTTCTGGTTGGTTGTGGCCTGTTGATGCTAAAGGTGAGCCGCTTAAAGCTACCAGTTATATGGCTGTTGGTTTCTATGTGGCTAAATACGTTAACAAAAAGTCAGATATGGACCTTGCTGCTAAAGGTCTAGGAGCTAAAGAATGGAACAACTCACTAAAAACCAAGCTGTCGCTACTTCCCAAGAAGCTGTTCAGAATCAGAATGAGCCGCAACTTCGGGATGAAAATGCTCACAATGACAAATCTGTCCACGGAGTGCTTAATCCAACTTACCAAGCTGGGTTACGACGCGACGCCGTTCAACCAGATATTGAAGCAGAACGCAAAAAGAGAGATGAGATTGAGGCTGGGAAAAGTTACTGTAGCCGACGTTTTGGCGGCGCAACCTGTGACGACAAATCTGCTCAAATTTATGCGCGCTTCGATAAAAATGATTGGCGTATCCAACCTGCA\n"
     ]
    }
   ],
   "source": [
    "genbank_file_path2 =  \"/Users/Alvaro/Desktop/phage/sequence.gb\"\n",
    "\n",
    "# Read the GenBank file\n",
    "for record in SeqIO.parse(genbank_file_path2, \"genbank\"):\n",
    "    if record.id == \"EF380009.1\":\n",
    "        print(f\"Processing record: {record.id}\\n\")\n",
    "        \n",
    "        sequence = str(record.seq)\n",
    "        print(sequence)"
   ]
  },
  {
   "cell_type": "code",
   "execution_count": 13,
   "metadata": {},
   "outputs": [
    {
     "name": "stderr",
     "output_type": "stream",
     "text": [
      "2023-10-18 12:21:39.849 | INFO     | input_commands:instantiate_dirs:160 - Removing output directory ../data/interim/pharokka/ as -f or --force was specified.\n",
      "2023-10-18 12:21:39.856 | INFO     | __main__:main:84 - Starting Pharokka v1.4.1\n",
      "2023-10-18 12:21:39.857 | INFO     | __main__:main:85 - Command executed: Namespace(citation=False, coding_table='11', custom_hmm='', database='/Users/Alvaro/miniconda3/envs/pharokkaENV/databases/', dnaapler=False, evalue='1E-05', fast=False, force=True, genbank=False, gene_predictor='phanotate', infile='NC_005213_converted.fna', locustag='Default', meta=False, meta_hmm=False, mmseqs2_only=False, outdir='../data/interim/pharokka/', prefix='Default', split=False, terminase=False, terminase_start='nothing', terminase_strand='nothing', threads='1')\n",
      "2023-10-18 12:21:39.857 | INFO     | __main__:main:86 - Repository homepage is https://github.com/gbouras13/pharokka\n",
      "2023-10-18 12:21:39.857 | INFO     | __main__:main:87 - Written by George Bouras: george.bouras@adelaide.edu.au\n",
      "2023-10-18 12:21:39.858 | INFO     | __main__:main:89 - Checking database installation in /Users/Alvaro/miniconda3/envs/pharokkaENV/databases/.\n",
      "2023-10-18 12:21:39.858 | INFO     | __main__:main:92 - All databases have been successfully checked.\n",
      "2023-10-18 12:21:39.858 | INFO     | __main__:main:108 - Checking dependencies.\n",
      "2023-10-18 12:21:40.243 | INFO     | input_commands:check_dependencies:322 - Phanotate version found is v1.5.1\n",
      "2023-10-18 12:21:40.244 | INFO     | input_commands:check_dependencies:331 - Phanotate version is ok.\n",
      "2023-10-18 12:21:40.262 | INFO     | input_commands:check_dependencies:353 - MMseqs2 version found is v13.45111\n",
      "2023-10-18 12:21:40.263 | INFO     | input_commands:check_dependencies:362 - MMseqs2 version is ok.\n",
      "2023-10-18 12:21:40.450 | INFO     | input_commands:check_dependencies:386 - tRNAscan-SE version found is v2.0.12\n",
      "2023-10-18 12:21:40.452 | INFO     | input_commands:check_dependencies:397 - tRNAscan-SE version is ok.\n",
      "2023-10-18 12:21:40.665 | INFO     | input_commands:check_dependencies:421 - MinCED version found is v0.4.2\n",
      "2023-10-18 12:21:40.667 | INFO     | input_commands:check_dependencies:432 - MinCED version is ok.\n",
      "2023-10-18 12:21:40.699 | INFO     | input_commands:check_dependencies:458 - ARAGORN version found is v1.2.41\n",
      "2023-10-18 12:21:40.702 | INFO     | input_commands:check_dependencies:469 - ARAGORN version is ok.\n",
      "2023-10-18 12:21:40.730 | INFO     | input_commands:check_dependencies:485 - mash version found is v2.3\n",
      "2023-10-18 12:21:40.732 | INFO     | input_commands:check_dependencies:492 - mash version is ok.\n",
      "2023-10-18 12:21:43.262 | INFO     | input_commands:check_dependencies:511 - Dnaapler version found is v0.3.2\n",
      "2023-10-18 12:21:43.263 | INFO     | input_commands:check_dependencies:518 - Dnaapler version is ok.\n",
      "2023-10-18 12:21:43.264 | INFO     | input_commands:check_dependencies:529 - Pyrodigal version is v3.0.1\n",
      "2023-10-18 12:21:43.265 | INFO     | input_commands:check_dependencies:530 - Pyrodigal version is ok.\n",
      "2023-10-18 12:21:43.292 | INFO     | input_commands:validate_fasta:205 - Checking Input FASTA.\n",
      "2023-10-18 12:21:43.293 | INFO     | input_commands:validate_fasta:207 - FASTA checked.\n",
      "2023-10-18 12:21:43.293 | INFO     | input_commands:validate_gene_predictor:214 - Phanotate will be used for gene prediction.\n",
      "2023-10-18 12:21:43.294 | INFO     | __main__:main:268 - Running Phanotate.\n",
      "2023-10-18 12:21:43.296 | INFO     | external_tools:run:50 - Started running phanotate.py -f fasta -o ../data/interim/pharokka/phanotate_out_tmp.fasta NC_005213_converted.fna ...\n",
      "2023-10-18 12:21:47.611 | INFO     | external_tools:run:52 - Done running phanotate.py -f fasta -o ../data/interim/pharokka/phanotate_out_tmp.fasta NC_005213_converted.fna\n",
      "2023-10-18 12:21:47.614 | INFO     | external_tools:run:50 - Started running phanotate.py -f tabular -o ../data/interim/pharokka/phanotate_out.txt NC_005213_converted.fna ...\n",
      "2023-10-18 12:21:51.185 | INFO     | external_tools:run:52 - Done running phanotate.py -f tabular -o ../data/interim/pharokka/phanotate_out.txt NC_005213_converted.fna\n",
      "2023-10-18 12:21:51.245 | INFO     | __main__:main:291 - Starting tRNA-scanSE.\n",
      "2023-10-18 12:21:51.247 | INFO     | external_tools:run:50 - Started running tRNAscan-SE --thread 1 -G -Q -j ../data/interim/pharokka/trnascan_out.gff NC_005213_converted.fna ...\n",
      "2023-10-18 12:21:51.516 | INFO     | external_tools:run:52 - Done running tRNAscan-SE --thread 1 -G -Q -j ../data/interim/pharokka/trnascan_out.gff NC_005213_converted.fna\n",
      "2023-10-18 12:21:51.519 | INFO     | processes:run_minced:694 - Running MinCED.\n",
      "2023-10-18 12:21:51.522 | INFO     | external_tools:run:50 - Started running minced NC_005213_converted.fna ../data/interim/pharokka/pharokka_minced_spacers.txt ../data/interim/pharokka/pharokka_minced.gff ...\n",
      "2023-10-18 12:21:51.708 | INFO     | external_tools:run:52 - Done running minced NC_005213_converted.fna ../data/interim/pharokka/pharokka_minced_spacers.txt ../data/interim/pharokka/pharokka_minced.gff\n",
      "2023-10-18 12:21:51.710 | INFO     | processes:run_aragorn:723 - Running Aragorn.\n",
      "2023-10-18 12:21:51.713 | INFO     | external_tools:run:50 - Started running aragorn -l -gcbact -w -m -o ../data/interim/pharokka/pharokka_aragorn.txt NC_005213_converted.fna ...\n",
      "2023-10-18 12:21:51.733 | INFO     | external_tools:run:52 - Done running aragorn -l -gcbact -w -m -o ../data/interim/pharokka/pharokka_aragorn.txt NC_005213_converted.fna\n",
      "2023-10-18 12:21:51.736 | INFO     | __main__:main:299 - Starting MMseqs2.\n",
      "2023-10-18 12:21:51.737 | INFO     | processes:run_mmseqs:549 - Running MMseqs2 on PHROG Database.\n",
      "2023-10-18 12:21:51.739 | INFO     | external_tools:run:50 - Started running mmseqs createdb ../data/interim/pharokka/phanotate_aas_tmp.fasta ../data/interim/pharokka/target_dir/target_seqs ...\n",
      "2023-10-18 12:21:51.869 | INFO     | external_tools:run:52 - Done running mmseqs createdb ../data/interim/pharokka/phanotate_aas_tmp.fasta ../data/interim/pharokka/target_dir/target_seqs\n",
      "2023-10-18 12:21:51.873 | INFO     | external_tools:run:50 - Started running mmseqs search -e 1E-05 /Users/Alvaro/miniconda3/envs/pharokkaENV/databases/phrogs_profile_db ../data/interim/pharokka/target_dir/target_seqs ../data/interim/pharokka/mmseqs/results_mmseqs ../data/interim/pharokka/tmp_dir/ -s 8.5 --threads 1 ...\n",
      "2023-10-18 12:53:26.990 | ERROR    | external_tools:run_tool:94 - Error calling mmseqs search -e 1E-05 /Users/Alvaro/miniconda3/envs/pharokkaENV/databases/phrogs_profile_db ../data/interim/pharokka/target_dir/target_seqs ../data/interim/pharokka/mmseqs/results_mmseqs ../data/interim/pharokka/tmp_dir/ -s 8.5 --threads 1 (return code 1)\n"
     ]
    }
   ],
   "source": [
    "# database_dir = \"/Users/Alvaro/Downloads/pharokka_v1.4.0_databases\"\n",
    "database_dir = \"/Users/Alvaro/miniconda3/envs/pharokkaENV/databases/\"\n",
    "sequence = \"NC_005213_converted.fna\"\n",
    "unix_call(f'pharokka.py -i {sequence} -o {output_directory} -f -d {database_dir}')"
   ]
  },
  {
   "cell_type": "code",
   "execution_count": null,
   "metadata": {},
   "outputs": [],
   "source": [
    "# database_dir = \"/Users/Alvaro/Downloads/pharokka_v1.4.0_databases\"\n",
    "database_dir = \"/Users/Alvaro/miniconda3/envs/pharokkaENV/databases/\"\n",
    "sequence = \"NC_005213_converted.fna\"\n",
    "pharokka.py -i \"NC_005213_converted.fna\" -o . -f -d \"/Users/Alvaro/miniconda3/envs/pharokkaENV/databases/\""
   ]
  },
  {
   "cell_type": "code",
   "execution_count": 9,
   "metadata": {},
   "outputs": [
    {
     "name": "stdout",
     "output_type": "stream",
     "text": [
      "usage: pharokka.py [-h] [-i INFILE] [-o OUTDIR] [-d DATABASE] [-t THREADS]\n",
      "                   [-f] [-p PREFIX] [-l LOCUSTAG] [-g GENE_PREDICTOR] [-m]\n",
      "                   [-s] [-c CODING_TABLE] [-e EVALUE] [--fast]\n",
      "                   [--mmseqs2_only] [--meta_hmm] [--dnaapler]\n",
      "                   [--custom_hmm CUSTOM_HMM] [--genbank] [--terminase]\n",
      "                   [--terminase_strand TERMINASE_STRAND]\n",
      "                   [--terminase_start TERMINASE_START] [-V] [--citation]\n",
      "\n",
      "pharokka: fast phage annotation program\n",
      "\n",
      "optional arguments:\n",
      "  -h, --help            show this help message and exit\n",
      "  -i INFILE, --infile INFILE\n",
      "                        Input genome file in fasta format.\n",
      "  -o OUTDIR, --outdir OUTDIR\n",
      "                        Directory to write the output to.\n",
      "  -d DATABASE, --database DATABASE\n",
      "                        Database directory. If the databases have been installed in the default directory, this is not required. Otherwise specify the path.\n",
      "  -t THREADS, --threads THREADS\n",
      "                        Number of threads. Defaults to 1.\n",
      "  -f, --force           Overwrites the output directory.\n",
      "  -p PREFIX, --prefix PREFIX\n",
      "                        Prefix for output files. This is not required.\n",
      "  -l LOCUSTAG, --locustag LOCUSTAG\n",
      "                        User specified locus tag for the gff/gbk files. This is not required. A random locus tag will be generated instead.\n",
      "  -g GENE_PREDICTOR, --gene_predictor GENE_PREDICTOR\n",
      "                        User specified gene predictor. Use \"-g phanotate\" or \"-g prodigal\". \n",
      "                        Defaults to phanotate (not required unless prodigal is desired).\n",
      "  -m, --meta            meta mode for metavirome input samples\n",
      "  -s, --split           split mode for metavirome samples. -m must also be specified. \n",
      "                        Will output separate split FASTA, gff and genbank files for each input contig.\n",
      "  -c CODING_TABLE, --coding_table CODING_TABLE\n",
      "                        translation table for prodigal. Defaults to 11. Experimental only.\n",
      "  -e EVALUE, --evalue EVALUE\n",
      "                        E-value threshold for MMseqs2 database PHROGs, VFDB and CARD and PyHMMER PHROGs database search. Defaults to 1E-05.\n",
      "  --fast, --hmm_only    Runs PyHMMER (HMMs) with PHROGs only, not MMseqs2 with PHROGs, CARD or VFDB. \n",
      "                        Designed for phage isolates, will not likely be faster for large metagenomes.\n",
      "  --mmseqs2_only        Runs MMseqs2 with PHROGs, CARD and VFDB only (same as Pharokka v1.3.2 and prior). Default in meta mode.\n",
      "  --meta_hmm            Overrides --mmseqs2_only in meta mode. Will run both MMseqs2 and PyHMMER.\n",
      "  --dnaapler            Runs dnaapler to automatically re-orient all contigs to begin with terminase large subunit if found. \n",
      "                        Recommended over using '--terminase'.\n",
      "  --custom_hmm CUSTOM_HMM\n",
      "                        Run pharokka with a custom HMM profile database suffixed .h3m. \n",
      "                        Please use create this with the create_custom_hmm.py script.\n",
      "  --genbank             Flag denoting that -i/--input is a genbank file instead of the usual FASTA file. \n",
      "                         The CDS calls in this file will be preserved and re-annotated.\n",
      "  --terminase           Runs terminase large subunit re-orientation mode. \n",
      "                        Single genome input only and requires --terminase_strand and --terminase_start to be specified.\n",
      "  --terminase_strand TERMINASE_STRAND\n",
      "                        Strand of terminase large subunit. Must be \"pos\" or \"neg\".\n",
      "  --terminase_start TERMINASE_START\n",
      "                        Start coordinate of the terminase large subunit.\n",
      "  -V, --version         Print pharokka Version\n",
      "  --citation            Print pharokka Citation\n"
     ]
    }
   ],
   "source": [
    "# database_dir = \"/Users/Alvaro/Downloads/pharokka_v1.4.0_databases\"\n",
    "unix_call(f'pharokka.py -h')"
   ]
  }
 ],
 "metadata": {
  "kernelspec": {
   "display_name": "phage",
   "language": "python",
   "name": "python3"
  },
  "language_info": {
   "codemirror_mode": {
    "name": "ipython",
    "version": 3
   },
   "file_extension": ".py",
   "mimetype": "text/x-python",
   "name": "python",
   "nbconvert_exporter": "python",
   "pygments_lexer": "ipython3",
   "version": "3.8.17"
  }
 },
 "nbformat": 4,
 "nbformat_minor": 2
}
