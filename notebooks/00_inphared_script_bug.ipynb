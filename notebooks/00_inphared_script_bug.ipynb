{
 "cells": [
  {
   "cell_type": "markdown",
   "metadata": {},
   "source": [
    "In this notebook, I am trying to demonstrate that some values in the output produced by INPHARED with regard to the Genbankfile it processes with its inphared.pl script is not correct"
   ]
  },
  {
   "cell_type": "code",
   "execution_count": 2,
   "metadata": {},
   "outputs": [],
   "source": [
    "import pandas as pd\n",
    "from Bio import SeqIO\n",
    "from Bio.SeqFeature import FeatureLocation\n",
    "from Bio.Seq import UndefinedSequenceError"
   ]
  },
  {
   "cell_type": "markdown",
   "metadata": {},
   "source": [
    "The input is a folder with a pharokka output. We will parse several files and compare them to prove that the output of INPHARED is not quite right"
   ]
  },
  {
   "cell_type": "code",
   "execution_count": 39,
   "metadata": {},
   "outputs": [
    {
     "data": {
      "text/plain": [
       "'./MZ079855__Klebsiella_phage_vB_Kpn_3.fna_pharokka/'"
      ]
     },
     "execution_count": 39,
     "metadata": {},
     "output_type": "execute_result"
    }
   ],
   "source": [
    "code = \"MZ079855__Klebsiella_phage_vB_Kpn_3\" \n",
    "entry = f\"./{code}.fna_pharokka/\"\n",
    "entry"
   ]
  },
  {
   "cell_type": "markdown",
   "metadata": {},
   "source": [
    "## Parsing of Genbank file by custom Python function"
   ]
  },
  {
   "cell_type": "markdown",
   "metadata": {},
   "source": [
    "This function extracts information from a genbank file with a similar logic to the inphared.pl script. We will focus on the GC content, number of CDS, positive and negative %, and coding capacity"
   ]
  },
  {
   "cell_type": "code",
   "execution_count": 9,
   "metadata": {},
   "outputs": [
    {
     "name": "stdout",
     "output_type": "stream",
     "text": [
      "Processing the entries...\n",
      "---Information gathered by my function----\n",
      "Column id:  ['MZ079855__Klebsiella_phage_vB_Kpn']\n",
      "Column genome_length:  [112003]\n",
      "Column gc_%:  [41.361]\n",
      "Column cds_number:  [186]\n",
      "Column positive_strand_%:  [71.51]\n",
      "Column negative_strand_%:  [28.49]\n",
      "Column coding_capacity:  [84.66380364811657]\n",
      "Column trna_count:  [17]\n"
     ]
    }
   ],
   "source": [
    "genbank_file_path = f'{entry}pharokka.gbk'\n",
    "\n",
    "def engineer_features(genbank_file):\n",
    "    # Lists to hold data\n",
    "    ids = []\n",
    "    genome_lengths = []\n",
    "    gc_contents = []\n",
    "    sequences = []\n",
    "    reverse_complements = []\n",
    "    cds_numbers = []\n",
    "    positive_strands = []\n",
    "    negative_strands = []\n",
    "    coding_capacities = []\n",
    "    molecule_types = []\n",
    "    topologies = []\n",
    "    trna_counts = []\n",
    "\n",
    "    \n",
    "    # Read the GenBank file\n",
    "    for record in SeqIO.parse(genbank_file, \"genbank\"):\n",
    "        try:\n",
    "            # Attempt to access the sequence, which may raise UndefinedSequenceError\n",
    "            sequence = str(record.seq)\n",
    "            # print(record.id)\n",
    "        except UndefinedSequenceError:\n",
    "            # print(f\"Skipping record {record.id} as sequence is undefined.\")\n",
    "            continue  # Skip this record\n",
    "\n",
    "        # Calculate genome length and GC content\n",
    "        total_length = len(sequence)\n",
    "        gc_content = round((sequence.count('C') + sequence.count('G')) / total_length * 100, 3)\n",
    "\n",
    "        # Initialize counters\n",
    "        plus = 0\n",
    "        minus = 0\n",
    "        coding_count = 0\n",
    "        trna_count = 0\n",
    "        seen = set()  # Store seen barcodes\n",
    "\n",
    "        for feature in record.features:\n",
    "            start = feature.location.start\n",
    "            end = feature.location.end\n",
    "            length = len(FeatureLocation(start, end))\n",
    "            barcode = f\"{start}_{end}_{length}\"\n",
    "\n",
    "            if feature.type != 'source' and barcode not in seen:\n",
    "                coding_count += length\n",
    "                seen.add(barcode)\n",
    "\n",
    "            if feature.type == 'CDS':\n",
    "                if feature.location.strand == 1:\n",
    "                    plus += 1\n",
    "                elif feature.location.strand == -1:\n",
    "                    minus += 1\n",
    "            elif feature.type == 'tRNA':\n",
    "                trna_count += 1\n",
    "\n",
    "        \n",
    "        # Calculate total number of CDS\n",
    "        total_CDS = plus + minus\n",
    "\n",
    "        # Calculate strand usage as a percentage\n",
    "        per_plus = round((plus / total_CDS) * 100, 2) if total_CDS != 0 else 0\n",
    "        per_minus = round((minus / total_CDS) * 100, 2) if total_CDS != 0 else 0\n",
    "\n",
    "        # Calculate coding capacity as a percentage\n",
    "        coding_capacity = (coding_count / total_length) * 100\n",
    "\n",
    "        # Extract molecule_type and topology\n",
    "        molecule_type = record.annotations.get('molecule_type', 'N/A')\n",
    "        topology = record.annotations.get('topology', 'N/A')\n",
    "\n",
    "        # Append data to lists\n",
    "        ids.append(record.id)\n",
    "        genome_lengths.append(total_length)\n",
    "        gc_contents.append(gc_content)\n",
    "        sequences.append(sequence)\n",
    "        reverse_complements.append(str(sequence[::-1]))\n",
    "        cds_numbers.append(total_CDS)\n",
    "        positive_strands.append(per_plus)\n",
    "        negative_strands.append(per_minus)\n",
    "        coding_capacities.append(coding_capacity)\n",
    "        molecule_types.append(molecule_type)\n",
    "        topologies.append(topology)\n",
    "        trna_counts.append(trna_count)\n",
    "    \n",
    "    print(\"Processing the entries...\")\n",
    "    # Convert lists to pandas DataFrame\n",
    "    df = pd.DataFrame({\n",
    "        'id': ids,\n",
    "        'genome_length': genome_lengths,\n",
    "        'gc_%': gc_contents,\n",
    "        'sequence': sequences,\n",
    "        'reverse_complement': reverse_complements,\n",
    "        'cds_number': cds_numbers,\n",
    "        'positive_strand_%': positive_strands,\n",
    "        'negative_strand_%': negative_strands,\n",
    "        'coding_capacity': coding_capacities,\n",
    "        'molecule_type': molecule_types,\n",
    "        'topology': topologies,\n",
    "        'trna_count': trna_counts\n",
    "    })\n",
    "\n",
    "\n",
    "    df['id'] = df['id'].str[:-2]\n",
    "\n",
    "    # Check for unexpected molecule types\n",
    "    expected_molecule_types = ['ss-DNA', 'DNA', 'RNA', 'ss-RNA']\n",
    "\n",
    "    # Check and correct 'cRNA' entries\n",
    "    cRNA_entries = df[df['molecule_type'] == 'cRNA']\n",
    "    if not cRNA_entries.empty:\n",
    "        for entry_id in cRNA_entries['id']:\n",
    "            print(f\"Info: Entry with id '{entry_id}' has molecule type 'cRNA'. Changing it to 'RNA'.\")\n",
    "        df.loc[df['molecule_type'] == 'cRNA', 'molecule_type'] = 'RNA'\n",
    "\n",
    "    # Check and correct 'cDNA' entries\n",
    "    cDNA_entries = df[df['molecule_type'] == 'cDNA']\n",
    "    if not cDNA_entries.empty:\n",
    "        for entry_id in cDNA_entries['id']:\n",
    "            print(f\"Info: Entry with id '{entry_id}' has molecule type 'cDNA'. Changing it to 'DNA'.\")\n",
    "        df.loc[df['molecule_type'] == 'cDNA', 'molecule_type'] = 'DNA'\n",
    "\n",
    "    unexpected_types = set(df['molecule_type']) - set(expected_molecule_types)\n",
    "\n",
    "    if unexpected_types:\n",
    "        for utype in unexpected_types:\n",
    "            # Get ids of entries with the unexpected molecule type\n",
    "            ids_to_exclude = df[df['molecule_type'] == utype]['id'].tolist()\n",
    "            for entry_id in ids_to_exclude:\n",
    "                print(f\"Warning: Entry with id '{entry_id}' has unrecognized molecule type '{utype}'. It will not be considered.\")\n",
    "            df = df[df['molecule_type'] != utype]\n",
    "            \n",
    "    df = pd.get_dummies(df, columns=['molecule_type'])\n",
    "\n",
    "    expected_columns = ['jumbophage', 'molecule_type_ss-DNA', 'molecule_type_DNA', 'molecule_type_RNA', 'molecule_type_ss-RNA']\n",
    "    for col in expected_columns:\n",
    "        if col not in df.columns:\n",
    "            df[col] = 0  # Filling with zeros\n",
    "        df[col] = df[col].astype(bool)  # Convert to boolean\n",
    "\n",
    "    df['jumbophage'] = df['genome_length'].apply(lambda x: x >= 200000)\n",
    "    df['jumbophage'] = df['jumbophage'].astype(int)  # Convert True/False to 1/0\n",
    "\n",
    "    return df\n",
    "\n",
    "df = engineer_features(genbank_file_path)\n",
    "\n",
    "\n",
    "feature_columns = ['id', 'genome_length', 'gc_%',\n",
    "       'cds_number', 'positive_strand_%', 'negative_strand_%',\n",
    "       'coding_capacity',  'trna_count']\n",
    "\n",
    "print(\"---Information gathered by my function----\")\n",
    "for column in df.columns:\n",
    "    if column in feature_columns:\n",
    "        print(f\"Column {column}: \",df[column].to_list())\n",
    "\n",
    "\n"
   ]
  },
  {
   "cell_type": "markdown",
   "metadata": {},
   "source": [
    "## Parsing of Genbank file by INPHARED"
   ]
  },
  {
   "cell_type": "markdown",
   "metadata": {},
   "source": [
    "We are now going to load the same information coming from the file produced by inphared. This has been presumely produced with the inphared.pl as part of the pharokka kit"
   ]
  },
  {
   "cell_type": "code",
   "execution_count": 20,
   "metadata": {},
   "outputs": [
    {
     "name": "stdout",
     "output_type": "stream",
     "text": [
      "---Information gathered by INPHARED---\n",
      "Column Accession:  ['MZ079855']\n",
      "Column Genome_Length_(bp):  [112003]\n",
      "Column molGC_(%):  [41.361]\n",
      "Column Number_CDS:  [182]\n",
      "Column Positive_Strand_(%):  [70.8791208791209]\n",
      "Column Negative_Strand_(%):  [29.1208791208791]\n",
      "Column Coding_Capacity_(%):  [83.2638411471121]\n",
      "Column tRNAs:  [19]\n"
     ]
    }
   ],
   "source": [
    "df_inphared = pd.read_csv(f\"{entry}pharokka_top_hits_mash_inphared.tsv\", sep=\"\\t\")\n",
    "\n",
    "feature_columns = ['Accession', \n",
    "       'Genome_Length_(bp)',  'molGC_(%)', \n",
    "        'Number_CDS', 'Positive_Strand_(%)',\n",
    "       'Negative_Strand_(%)', 'Coding_Capacity_(%)',\n",
    "       'tRNAs']\n",
    "print(\"---Information gathered by INPHARED---\")\n",
    "for column in df_inphared.columns:\n",
    "    if column in feature_columns:\n",
    "        print(f\"Column {column}: \",df_inphared[column].to_list())\n"
   ]
  },
  {
   "cell_type": "markdown",
   "metadata": {},
   "source": [
    "### What are we looking at?"
   ]
  },
  {
   "cell_type": "markdown",
   "metadata": {},
   "source": [
    "There are **two conflicting elements**:\n",
    "- Number of CDS: 186 (mine) vs 182 (inphared)\n",
    "- Number of tRNAs: 17 (mine) vs 19 (inphared)\n",
    "\n",
    "\n",
    "The coding capacity, and +/- % also differs, but that is probably related to the fact that the number of CDS is different.\n"
   ]
  },
  {
   "cell_type": "markdown",
   "metadata": {},
   "source": [
    "## Checking the correct numbers"
   ]
  },
  {
   "cell_type": "markdown",
   "metadata": {},
   "source": [
    "\n",
    "We can check in other pharokka files that the correct number is that of my function, and therefore there is something not being parsed correctly in inphared."
   ]
  },
  {
   "cell_type": "markdown",
   "metadata": {},
   "source": [
    "**Number of CDS and tRNAs**"
   ]
  },
  {
   "cell_type": "code",
   "execution_count": 37,
   "metadata": {},
   "outputs": [
    {
     "data": {
      "text/html": [
       "<div>\n",
       "<style scoped>\n",
       "    .dataframe tbody tr th:only-of-type {\n",
       "        vertical-align: middle;\n",
       "    }\n",
       "\n",
       "    .dataframe tbody tr th {\n",
       "        vertical-align: top;\n",
       "    }\n",
       "\n",
       "    .dataframe thead th {\n",
       "        text-align: right;\n",
       "    }\n",
       "</style>\n",
       "<table border=\"1\" class=\"dataframe\">\n",
       "  <thead>\n",
       "    <tr style=\"text-align: right;\">\n",
       "      <th></th>\n",
       "      <th>Description</th>\n",
       "      <th>Count</th>\n",
       "      <th>contig</th>\n",
       "    </tr>\n",
       "  </thead>\n",
       "  <tbody>\n",
       "    <tr>\n",
       "      <th>0</th>\n",
       "      <td>CDS</td>\n",
       "      <td>186</td>\n",
       "      <td>MZ079855__Klebsiella_phage_vB_Kpn_3</td>\n",
       "    </tr>\n",
       "    <tr>\n",
       "      <th>11</th>\n",
       "      <td>tRNAs</td>\n",
       "      <td>23</td>\n",
       "      <td>MZ079855__Klebsiella_phage_vB_Kpn_3</td>\n",
       "    </tr>\n",
       "  </tbody>\n",
       "</table>\n",
       "</div>"
      ],
      "text/plain": [
       "   Description  Count                               contig\n",
       "0          CDS    186  MZ079855__Klebsiella_phage_vB_Kpn_3\n",
       "11       tRNAs     23  MZ079855__Klebsiella_phage_vB_Kpn_3"
      ]
     },
     "execution_count": 37,
     "metadata": {},
     "output_type": "execute_result"
    }
   ],
   "source": [
    "df = pd.read_csv(f\"{entry}pharokka_cds_functions.tsv\", sep=\"\\t\")\n",
    "df.iloc[[0,11]]"
   ]
  },
  {
   "cell_type": "markdown",
   "metadata": {},
   "source": [
    "- The number of CDS is 186 and, thus, inphared.pl misses 4 of them.\n",
    "- Both my function and inphared return the wrong number of tRNAs. If we look at the Genbank file, we will see the reason for this. \n",
    "\n",
    "    tRNAs can be stored in the genbank file either as features of their own (which in this file they sum up to 17) or as part of pseudogenes (which they sum up to the value offered in this other file: 23). Whichever the case, it seems that inphared is not parsing the file correctly"
   ]
  },
  {
   "cell_type": "markdown",
   "metadata": {},
   "source": [
    "**Coding density**"
   ]
  },
  {
   "cell_type": "code",
   "execution_count": 25,
   "metadata": {},
   "outputs": [
    {
     "name": "stdout",
     "output_type": "stream",
     "text": [
      "Column cds_coding_density:  [82.86]\n"
     ]
    }
   ],
   "source": [
    "df = pd.read_csv(f\"{entry}pharokka_length_gc_cds_density.tsv\", sep=\"\\t\")\n",
    "for column in df:\n",
    "    if column == \"cds_coding_density\":\n",
    "        print(f\"Column {column}: \",df[column].to_list())\n"
   ]
  },
  {
   "cell_type": "markdown",
   "metadata": {},
   "source": [
    "In this case, the coding density is slightly different to both my function and inphared, and I have not found out why. "
   ]
  }
 ],
 "metadata": {
  "kernelspec": {
   "display_name": "phage",
   "language": "python",
   "name": "python3"
  },
  "language_info": {
   "codemirror_mode": {
    "name": "ipython",
    "version": 3
   },
   "file_extension": ".py",
   "mimetype": "text/x-python",
   "name": "python",
   "nbconvert_exporter": "python",
   "pygments_lexer": "ipython3",
   "version": "3.8.17"
  }
 },
 "nbformat": 4,
 "nbformat_minor": 2
}
